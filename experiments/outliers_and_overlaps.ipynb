{
 "cells": [
  {
   "cell_type": "code",
   "execution_count": null,
   "metadata": {},
   "outputs": [],
   "source": [
    "# Test performance of clustering algorithms while allowing for outliers and overlapping communities.\n",
    "\n",
    "# Ego-split + CAS\n",
    "# ECG + CAS\n",
    "# HSLC (edge version)\n",
    "\n",
    "# compare with F1s 1/(1/F1(labels, predict) + 1/F1(predict, labels))"
   ]
  }
 ],
 "metadata": {
  "language_info": {
   "name": "python"
  }
 },
 "nbformat": 4,
 "nbformat_minor": 2
}

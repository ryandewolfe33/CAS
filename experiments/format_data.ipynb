{
 "cells": [
  {
   "cell_type": "code",
   "execution_count": 5,
   "metadata": {},
   "outputs": [],
   "source": [
    "import igraph as ig\n",
    "import scipy.sparse as sp\n",
    "import numpy as np\n",
    "import sknetwork as sn"
   ]
  },
  {
   "cell_type": "markdown",
   "metadata": {},
   "source": [
    "## Format GML data as sparse adjacency"
   ]
  },
  {
   "cell_type": "code",
   "execution_count": 5,
   "metadata": {},
   "outputs": [],
   "source": [
    "g = ig.Graph.Read_GML(\"data/eu-core.gml\")"
   ]
  },
  {
   "cell_type": "code",
   "execution_count": 10,
   "metadata": {},
   "outputs": [
    {
     "data": {
      "text/plain": [
       "<Compressed Sparse Row sparse matrix of dtype 'bool'\n",
       "\twith 32770 stored elements and shape (1005, 1005)>"
      ]
     },
     "execution_count": 10,
     "metadata": {},
     "output_type": "execute_result"
    }
   ],
   "source": [
    "adjacency = g.get_adjacency_sparse()\n",
    "adjacency = adjacency.astype(\"bool\")\n",
    "adjacency"
   ]
  },
  {
   "cell_type": "code",
   "execution_count": 13,
   "metadata": {},
   "outputs": [],
   "source": [
    "sp.save_npz(\"data/eu-core_adjacency.npz\", adjacency)"
   ]
  },
  {
   "cell_type": "code",
   "execution_count": 24,
   "metadata": {},
   "outputs": [
    {
     "data": {
      "text/plain": [
       "array([ 1,  1, 25, ...,  4, 14,  9], shape=(1005,), dtype=int32)"
      ]
     },
     "execution_count": 24,
     "metadata": {},
     "output_type": "execute_result"
    }
   ],
   "source": [
    "labels = np.array(g.vs[\"gt\"], dtype=\"int32\")\n",
    "labels"
   ]
  },
  {
   "cell_type": "code",
   "execution_count": 25,
   "metadata": {},
   "outputs": [],
   "source": [
    "np.save(\"data/eu-core_labels.npy\", labels)"
   ]
  },
  {
   "cell_type": "code",
   "execution_count": 27,
   "metadata": {},
   "outputs": [
    {
     "data": {
      "text/plain": [
       "23752"
      ]
     },
     "execution_count": 27,
     "metadata": {},
     "output_type": "execute_result"
    }
   ],
   "source": [
    "g = ig.Graph.Read_GML(\"data/as.gml\")\n",
    "g = g.as_undirected()\n",
    "g.vcount()"
   ]
  },
  {
   "cell_type": "code",
   "execution_count": 28,
   "metadata": {},
   "outputs": [
    {
     "data": {
      "text/plain": [
       "<Compressed Sparse Row sparse matrix of dtype 'bool'\n",
       "\twith 116832 stored elements and shape (23752, 23752)>"
      ]
     },
     "execution_count": 28,
     "metadata": {},
     "output_type": "execute_result"
    }
   ],
   "source": [
    "adjacency = g.get_adjacency_sparse()\n",
    "adjacency = adjacency.astype(\"bool\")\n",
    "adjacency"
   ]
  },
  {
   "cell_type": "code",
   "execution_count": 29,
   "metadata": {},
   "outputs": [],
   "source": [
    "sp.save_npz(\"data/as_adjacency.npz\", adjacency)"
   ]
  },
  {
   "cell_type": "code",
   "execution_count": 31,
   "metadata": {},
   "outputs": [
    {
     "data": {
      "text/plain": [
       "array([154, 154,   1, ...,  57,   1,   1], shape=(23752,))"
      ]
     },
     "execution_count": 31,
     "metadata": {},
     "output_type": "execute_result"
    }
   ],
   "source": [
    "vals = np.unique(g.vs[\"gt\"])\n",
    "id_map = {j:i for i,j in enumerate(vals)}\n",
    "labels = np.array([id_map[i] for i in g.vs[\"gt\"]])\n",
    "labels"
   ]
  },
  {
   "cell_type": "code",
   "execution_count": 34,
   "metadata": {},
   "outputs": [],
   "source": [
    "np.save(\"data/as_labels.npy\", labels)"
   ]
  },
  {
   "cell_type": "code",
   "execution_count": 36,
   "metadata": {},
   "outputs": [
    {
     "data": {
      "text/plain": [
       "23166"
      ]
     },
     "execution_count": 36,
     "metadata": {},
     "output_type": "execute_result"
    }
   ],
   "source": [
    "g = ig.Graph.Read_GML(\"data/cora_full.gml\")\n",
    "g = g.as_undirected()\n",
    "g.vcount()"
   ]
  },
  {
   "cell_type": "code",
   "execution_count": 37,
   "metadata": {},
   "outputs": [
    {
     "data": {
      "text/plain": [
       "<Compressed Sparse Row sparse matrix of dtype 'bool'\n",
       "\twith 178314 stored elements and shape (23166, 23166)>"
      ]
     },
     "execution_count": 37,
     "metadata": {},
     "output_type": "execute_result"
    }
   ],
   "source": [
    "adjacency = g.get_adjacency_sparse()\n",
    "adjacency = adjacency.astype(\"bool\")\n",
    "adjacency"
   ]
  },
  {
   "cell_type": "code",
   "execution_count": 38,
   "metadata": {},
   "outputs": [],
   "source": [
    "sp.save_npz(\"data/cora_adjacency.npz\", adjacency)"
   ]
  },
  {
   "cell_type": "code",
   "execution_count": 39,
   "metadata": {},
   "outputs": [
    {
     "data": {
      "text/plain": [
       "array([ 0,  0,  0, ..., 57, 15, 45], shape=(23166,))"
      ]
     },
     "execution_count": 39,
     "metadata": {},
     "output_type": "execute_result"
    }
   ],
   "source": [
    "vals = np.unique(g.vs[\"gt\"])\n",
    "id_map = {j:i for i,j in enumerate(vals)}\n",
    "labels = np.array([id_map[i] for i in g.vs[\"gt\"]])\n",
    "labels"
   ]
  },
  {
   "cell_type": "code",
   "execution_count": 42,
   "metadata": {},
   "outputs": [],
   "source": [
    "np.save(\"data/cora_labels.npy\", labels)"
   ]
  },
  {
   "cell_type": "markdown",
   "metadata": {},
   "source": [
    "## Format SNAP data as sparse"
   ]
  },
  {
   "cell_type": "code",
   "execution_count": 6,
   "metadata": {},
   "outputs": [
    {
     "data": {
      "text/plain": [
       "<Compressed Sparse Row sparse matrix of dtype 'int64'\n",
       "\twith 1851744 stored elements and shape (334863, 334863)>"
      ]
     },
     "execution_count": 6,
     "metadata": {},
     "output_type": "execute_result"
    }
   ],
   "source": [
    "graph = sn.data.from_csv(\"data/com-amazon.ungraph.txt\", comments=\"#\", reindex=True)\n",
    "adjacency = graph[\"adjacency\"]\n",
    "adjacency"
   ]
  },
  {
   "cell_type": "code",
   "execution_count": null,
   "metadata": {},
   "outputs": [],
   "source": [
    "sp.save_npz(\"data/amazon_adjacnecy.npz\", adjacency)"
   ]
  },
  {
   "cell_type": "code",
   "execution_count": 9,
   "metadata": {},
   "outputs": [
    {
     "data": {
      "text/plain": [
       "<Compressed Sparse Row sparse matrix of dtype 'bool'\n",
       "\twith 67462 stored elements and shape (5000, 334863)>"
      ]
     },
     "execution_count": 9,
     "metadata": {},
     "output_type": "execute_result"
    }
   ],
   "source": [
    "with open(\"data/com-amazon.top5000.cmty.txt\", \"r\") as f:\n",
    "    x = f.readlines()\n",
    "    labels = sp.dok_matrix((len(x), adjacency.shape[0]), dtype=\"bool\")\n",
    "    for c, line in enumerate(x):\n",
    "        nodes = line[:-1].split('\\t')\n",
    "        for n in nodes:\n",
    "            index = np.argmax(graph[\"names\"] == int(n))\n",
    "            labels[c, index] = True\n",
    "labels = labels.tocsr()\n",
    "labels"
   ]
  },
  {
   "cell_type": "code",
   "execution_count": 11,
   "metadata": {},
   "outputs": [],
   "source": [
    "sp.save_npz(\"data/amazon_labels2.npz\", labels)"
   ]
  },
  {
   "cell_type": "code",
   "execution_count": 12,
   "metadata": {},
   "outputs": [
    {
     "data": {
      "text/plain": [
       "<Compressed Sparse Row sparse matrix of dtype 'int64'\n",
       "\twith 2099732 stored elements and shape (317080, 317080)>"
      ]
     },
     "execution_count": 12,
     "metadata": {},
     "output_type": "execute_result"
    }
   ],
   "source": [
    "graph = sn.data.from_csv(\"data/com-dblp.ungraph.txt\", comments=\"#\", reindex=True)\n",
    "adjacency = graph[\"adjacency\"]\n",
    "adjacency"
   ]
  },
  {
   "cell_type": "code",
   "execution_count": null,
   "metadata": {},
   "outputs": [],
   "source": [
    "sp.save_npz(\"data/dblp_adjacnecy.npz\", adjacency)"
   ]
  },
  {
   "cell_type": "code",
   "execution_count": 13,
   "metadata": {},
   "outputs": [
    {
     "data": {
      "text/plain": [
       "<Compressed Sparse Row sparse matrix of dtype 'bool'\n",
       "\twith 112228 stored elements and shape (5000, 317080)>"
      ]
     },
     "execution_count": 13,
     "metadata": {},
     "output_type": "execute_result"
    }
   ],
   "source": [
    "with open(\"data/com-dblp.top5000.cmty.txt\", \"r\") as f:\n",
    "    x = f.readlines()\n",
    "    labels = sp.dok_matrix((len(x), adjacency.shape[0]), dtype=\"bool\")\n",
    "    for c, line in enumerate(x):\n",
    "        nodes = line[:-1].split('\\t')\n",
    "        for n in nodes:\n",
    "            index = np.argmax(graph[\"names\"] == int(n))\n",
    "            labels[c, index] = True\n",
    "labels = labels.tocsr()\n",
    "labels"
   ]
  },
  {
   "cell_type": "code",
   "execution_count": 14,
   "metadata": {},
   "outputs": [],
   "source": [
    "sp.save_npz(\"data/dblp_labels2.npz\", labels)"
   ]
  },
  {
   "cell_type": "code",
   "execution_count": null,
   "metadata": {},
   "outputs": [],
   "source": []
  }
 ],
 "metadata": {
  "kernelspec": {
   "display_name": "CAS",
   "language": "python",
   "name": "python3"
  },
  "language_info": {
   "codemirror_mode": {
    "name": "ipython",
    "version": 3
   },
   "file_extension": ".py",
   "mimetype": "text/x-python",
   "name": "python",
   "nbconvert_exporter": "python",
   "pygments_lexer": "ipython3",
   "version": "3.13.0"
  }
 },
 "nbformat": 4,
 "nbformat_minor": 2
}
